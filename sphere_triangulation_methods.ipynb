{
 "cells": [
  {
   "cell_type": "markdown",
   "metadata": {},
   "source": [
    "# Spherical Triangulation\n",
    "Here I discuss two methods used to triangulate a sphere:\n",
    "1. the uniform grid in spherical coordinates method and\n",
    "2. the unit octahedron method\n",
    "\n",
    "The first method produces a mesh with highly populated poles. The second method produces a uniform mesh.\n",
    "\n",
    "<img src=\"two methods.png\" alt=\"twomethods\" width=\"600\"/>"
   ]
  },
  {
   "cell_type": "markdown",
   "metadata": {},
   "source": [
    "# 1. Uniform grid in spherical coordinates triangulation method\n",
    "The first method tessellates a sphere in a latitude-longitude fashion, with m divisions around\n",
    "the equator and n divisions from pole to pole along each longitudinal line. A quadrilateral is\n",
    "formed by two adjacent longitude lines and two adjacent latitude lines. At each pole, *m* triangles are formed. Each quadrilateral is then divided on the diagonal to form two triangles. Numerically, this is done by creating two vectors, one for the the azimuthal angle, denoted by $\\theta$ and another for the polar angle denoted by $\\phi$ in the spherical coordinate system subject to the following restrictions:\n",
    "\n",
    "$$0\\leq \\theta\\leq2\\pi, \\quad \\quad 0\\leq\\phi\\leq\\pi$$\n",
    "\n",
    "The azimuthal angle vector is divided into m equally spaced divisions. Similarly, the polar\n",
    "angle vector is divided into n equally spaced divisions. The angle vectors can then be used to\n",
    "determine the Cartesian coordinates of the vertices on the sphere using\n",
    "\n",
    "$$x = r sin\\phi cos\\theta; \\quad y = r sin\\phi sin\\theta; \\quad z = r cos\\phi$$\n",
    "\n",
    "where r is the radius of the sphere. This process produces a sphere with a surface comprised of\n",
    "$2m$ triangles at the pole and $m(n − 1)$ quadrilaterals elsewhere. Each quadrilateral is then divided on the diagonal to form two triangles. The total number of triangles generated on the sphere is given by\n",
    "\n",
    "$$T(m,n) = 2m + 2m(n-1) = 2mn$$\n",
    "\n",
    "The resulting mesh has a high concentration of triangles near the poles.\n"
   ]
  },
  {
   "cell_type": "code",
   "execution_count": 1,
   "metadata": {},
   "outputs": [],
   "source": [
    "#importing relevant libraries\n",
    "from math import *\n",
    "import numpy as np\n",
    "import matplotlib.pyplot as plt\n",
    "import pylab\n",
    "from mpl_toolkits.mplot3d import Axes3D"
   ]
  },
  {
   "cell_type": "markdown",
   "metadata": {},
   "source": [
    "First we define the function sphereTriangulationGrid. The inputs *n* and *m* specify the number of longitudinal and latitudinal divisions respectively."
   ]
  },
  {
   "cell_type": "code",
   "execution_count": 2,
   "metadata": {},
   "outputs": [],
   "source": [
    "def sphereTriangulationGrid(n, m):\n",
    "    theta = np.linspace(0, 2*pi, num = n)\n",
    "    phi   = np.linspace(0, pi, num = m)\n",
    "    M     = np.zeros((3,3,(n-1)*(m-1)*2))\n",
    "    ind   = 0\n",
    "    for i in range(n-1):\n",
    "        for j in range(m-1, 0, -1):\n",
    "            x1u = cos(theta[i])*sin(phi[j])\n",
    "            y1u = sin(theta[i])*sin(phi[j])\n",
    "            z1u = cos(phi[j])\n",
    "            \n",
    "            x2u = cos(theta[i+1])*sin(phi[j])\n",
    "            y2u = sin(theta[i+1])*sin(phi[j])\n",
    "            z2u = cos(phi[j])\n",
    "            \n",
    "            x3u = cos(theta[i])*sin(phi[j-1])\n",
    "            y3u = sin(theta[i])*sin(phi[j-1])\n",
    "            z3u = cos(phi[j-1])\n",
    "            \n",
    "            x1l = x2u\n",
    "            y1l = y2u\n",
    "            z1l = z2u\n",
    "            \n",
    "            x2l = x3u\n",
    "            y2l = y3u\n",
    "            z2l = z3u\n",
    "            \n",
    "            x3l = cos(theta[i+1])*sin(phi[j-1])\n",
    "            y3l = sin(theta[i+1])*sin(phi[j-1])\n",
    "            z3l = cos(phi[j-1])\n",
    "            \n",
    "            M[:,:,2*ind]   = np.array([[x1u, x2u, x3u], [y1u, y2u, y3u], [z1u, z2u, z3u]])\n",
    "            M[:,:,2*ind+1] = np.array([[x1l, x2l, x3l], [y1l, y2l, y3l], [z1l, z2l, z3l]])\n",
    "            ind += 1\n",
    "    return M                            #outputs a 3x3xN array; each 3x3 subarray represents a triangle.. \n",
    "                                        #...on the sphere where each row represents the xyz coordinates..\n",
    "                                        #...of each vertex          "
   ]
  },
  {
   "cell_type": "markdown",
   "metadata": {},
   "source": [
    "# 2. Uniform triangulation of sphere using octahedrons\n",
    "Another method of uniformly triangulating the surface of a sphere is by recursively subdividing the triangles of a unit octahedron until the desired resolution is obtained, then mapping the resulting polyhedron onto the unit sphere.\n",
    "\n",
    "<img src=\"Octahedron.png\" alt=\"octahedron\" width=\"600\"/>\n",
    "(i) Splitting each triangle into 3 subtriangles, (ii) projecting the vertices onto the unit sphere, (iii) the resulting polyhedron, (iv) top view of the resulting polyhedron. (a) 0th iteration, (b) 1st iteration, and (c) 2nd iteration.\n",
    "\n",
    "With each iteration, the number of triangles increases by a factor of 4, which gives the following expression for the total number of triangles:\n",
    "\n",
    "$$T(n) = 2^{2n+3}$$\n",
    "\n",
    "where $n$ is the $nth$ iteration. The octahedron triangulation method falls under a large class of triangulation methods that similarily use polyhedrons to divide the surface of a sphere into uniformly distributed triangles.\n"
   ]
  },
  {
   "cell_type": "markdown",
   "metadata": {},
   "source": [
    "First we define the function sphereTriangulation, which triangulates a unit sphere using a unit octahedron. *iterations* specifies the number of iterations and *radius* specificies the radius of the sphere. Ap, Bp, and Cp are the triangle vertex vectors."
   ]
  },
  {
   "cell_type": "code",
   "execution_count": 3,
   "metadata": {},
   "outputs": [],
   "source": [
    "#arsNorm(A) and arsUnit(A,radius) are used to project and normalise the vertices onto the sphere\n",
    "def arsNorm(A):\n",
    "    return np.sqrt(np.multiply(A[:,0],A[:,0]) + np.multiply(A[:,1],A[:,1]) + np.multiply(A[:,2],A[:,2]))\n",
    "\n",
    "def arsUnit(A, radius):\n",
    "    normOfA = arsNorm(A)\n",
    "    return  radius*(np.divide(A,np.transpose(np.vstack((normOfA,normOfA,normOfA)))))\n",
    "\n",
    "#this is the main triangulation function\n",
    "def sphereTriangulation(iterations, radius):\n",
    "    #basic Octahedron\n",
    "    A = np.array([1,0,0])\n",
    "    B = np.array([0,1,0])\n",
    "    C = np.array([0,0,1])\n",
    "    #from +-ABC create initial triangles which define the octahedron\n",
    "    triangles = np.vstack((A,B,C,A,B,-C,-A,B,C,-A,B,-C,-A,-B,C,-A,-B,-C,A,-B,C,A,-B,-C)) \n",
    "    #for simplicity, we split the triangles into ABC points\n",
    "    selector  = np.arange(1,triangles.shape[0]-1,3)\n",
    "    Ap = triangles[selector-1]\n",
    "    Bp = triangles[selector]\n",
    "    Cp = triangles[selector+1]\n",
    "    \n",
    "    #for every iteration divide every triangle into three new triangles\n",
    "    #        ^ C\n",
    "    #       / \\\n",
    "    # AC/2 /_4_\\CB/2\n",
    "    #     /\\ 3 /\\\n",
    "    #    / 1\\ /2 \\\n",
    "    # A /____V____\\B           \n",
    "    #       AB/2\n",
    "    #the new triangle stack is given by [[A, AB/2, AC/2]; [AB/2, B, CB/2]; [AC/2, AB/2, CB/2]; [AC/2, CB/2, C]] \n",
    "    for iteration in range(1, iterations+1):\n",
    "        AB_2 = arsUnit((Ap+Bp)/2,radius)\n",
    "        AC_2 = arsUnit((Ap+Cp)/2,radius)\n",
    "        CB_2 = arsUnit((Cp+Bp)/2,radius)\n",
    "        Ap   = np.vstack((Ap, AB_2, AC_2, AC_2))   #points from the 4 triangles... same for Bp and Cp\n",
    "        Bp   = np.vstack((AB_2, Bp, AB_2, CB_2))\n",
    "        Cp   = np.vstack((AC_2, CB_2, CB_2, Cp))\n",
    "        \n",
    "    M = np.array([Ap,Bp,Cp])            #outputs a 3x3xN array; each 3x3 subarray represents a triangle.. \n",
    "    M = np.transpose(M,(2,0,1))         #...on the sphere where each row represents the xyz coordinates..\n",
    "                                        #...of each vertex          \n",
    "    return M"
   ]
  },
  {
   "cell_type": "markdown",
   "metadata": {},
   "source": [
    "Let us test out our function by drawing the first quadrant of the triangulated sphere"
   ]
  },
  {
   "cell_type": "code",
   "execution_count": 4,
   "metadata": {},
   "outputs": [
    {
     "data": {
      "image/png": "[encoded data removed]",
      "text/plain": [
       "<Figure size 432x288 with 2 Axes>"
      ]
     },
     "metadata": {
      "needs_background": "light"
     },
     "output_type": "display_data"
    }
   ],
   "source": [
    "iterations, radius, n, m = 4, 1, 30, 30                \n",
    "\n",
    "M1 = sphereTriangulationGrid(n,m)\n",
    "M2 = sphereTriangulation(iterations,radius)\n",
    "#extract the triangle vertices from M1 and M2\n",
    "A1, B1, C1 = M1[:,0,:], M1[:,1,:], M1[:,2,:]\n",
    "A2, B2, C2 = M2[:,0,:], M2[:,1,:], M2[:,2,:]\n",
    "#setup figure and subplots\n",
    "fig = plt.figure()\n",
    "ax1 = fig.add_subplot(121, projection='3d') \n",
    "plt.axis('off')\n",
    "ax2 = fig.add_subplot(122, projection='3d')\n",
    "plt.axis('off')\n",
    "ax1.title.set_text('Uniform Grid Method')\n",
    "ax2.title.set_text('Octahedron Method')\n",
    "#only show one quadrant\n",
    "A1[A1<0], B1[B1<0], C1[C1<0] = np.nan, np.nan, np.nan\n",
    "A2[A2<0], B2[B2<0], C2[C2<0] = np.nan, np.nan, np.nan\n",
    "ax1.set_zlim(0, 1)\n",
    "ax1.view_init(elev=25., azim=30)\n",
    "ax2.set_zlim(0, 1)\n",
    "ax2.view_init(elev=25., azim=30)\n",
    "#draw each triangle\n",
    "for i in range(1, A1.shape[1]):\n",
    "    triangle1 = np.vstack((A1[:,i], B1[:,i], C1[:,i], A1[:,i]))\n",
    "    ax1.plot(triangle1[:,0],triangle1[:,1],triangle1[:,2], 'b-', linewidth = 0.5)\n",
    "for i in range(1, A2.shape[1]):\n",
    "    triangle2 = np.vstack((A2[:,i], B2[:,i], C2[:,i], A2[:,i]))\n",
    "    ax2.plot(triangle2[:,0],triangle2[:,1],triangle2[:,2], 'b-', linewidth = 0.5)"
   ]
  },
  {
   "cell_type": "markdown",
   "metadata": {},
   "source": [
    "# Solid Angle and Centroid Calculation\n",
    "\n",
    "The output 3d array, M, can be used to calculate the centroid of each of the triangles as well as the solid angles of the triangles.\n",
    "\n",
    "To calculate the solid angle, I used the formula from [this paper](http://ieeexplore.ieee.org/document/4121581/) where the solid angle $\\Omega$, measured in steradians, is calculated using\n",
    "\n",
    "$${tan}\\left (\\frac{1}{2} \\Omega   \\right ) = \\frac{{det} \\left [(\\mathbf{R_{1}})(\\mathbf{R_{2}})(\\mathbf{R_{3}})  \\right ]}{R_{1}R_{2}R_{3}+\\mathbf{\\left (R_{1}\\cdot R_{2}  \\right )}R_{3} + \\mathbf{\\left (R_{1}\\cdot R_{3}  \\right )}R_{2} + \\mathbf{\\left (R_{2}\\cdot R_{3}  \\right )}R_{1}}$$\n",
    "\n",
    "where $\\mathbf{R_{i}}$ are the triangle vertex vectors, $R_{i}$ are the magnitudes of the vectors and ${det} \\left [(\\mathbf{R_{1}})(\\mathbf{R_{2}})(\\mathbf{R_{3}})  \\right ]$ is the determinant of a matrix constructed from the column vectors.\n",
    "\n",
    "The function SolidAngle takes an input matrix M of size 3x3xN, which is the matrix calculated by the triangulation functions aboove. The output is a vector of the solid angles of the triangles.\n"
   ]
  },
  {
   "cell_type": "code",
   "execution_count": 5,
   "metadata": {},
   "outputs": [],
   "source": [
    "def SolidAngle(M):\n",
    "    #initialise the solid angle array\n",
    "    s = np.shape(M)\n",
    "    omega = np.zeros([1,s[2]])\n",
    "    #for each triangle we calculate the individual solid angles and add them to the solid angle array\n",
    "    for i in range(s[2]):\n",
    "        X = M[:,:,i]\n",
    "        R1 = X[:,0]\n",
    "        R2 = X[:,1]\n",
    "        R3 = X[:,2]\n",
    "        n1 = np.linalg.norm(R1)\n",
    "        n2 = np.linalg.norm(R2)\n",
    "        n3 = np.linalg.norm(R3)\n",
    "        D = np.absolute(np.linalg.det(X))\n",
    "        A = 1/((n1*n2*n3) + ((np.dot(R1,R2)*n3) + (np.dot(R1,R3)*n2) + (np.dot(R2,R3)*n1)))\n",
    "        A = D * A\n",
    "        omega[0,i] = np.arctan(A)*2             \n",
    "    return omega"
   ]
  },
  {
   "cell_type": "markdown",
   "metadata": {},
   "source": [
    "\n",
    "We can check if the function works correctly by testing it on our 3D array of triangles M. We should get a vector of solid angles where the sum of the vector elements is equal to $4\\pi$\n"
   ]
  },
  {
   "cell_type": "code",
   "execution_count": 6,
   "metadata": {},
   "outputs": [
    {
     "name": "stdout",
     "output_type": "stream",
     "text": [
      "4.0\n",
      "4.000000000000001\n"
     ]
    }
   ],
   "source": [
    "M1 = sphereTriangulationGrid(33,33)\n",
    "M2 = sphereTriangulation(4,1)\n",
    "print(np.sum(SolidAngle(M1))/pi)\n",
    "print(np.sum(SolidAngle(M2))/pi)"
   ]
  },
  {
   "cell_type": "markdown",
   "metadata": {},
   "source": [
    "\n",
    "The centroid of each spherical triangle can be found by first finding the centroid of the non-spherical triangles, denoted by $\\mathbf{r_{o}}$, using\n",
    "\n",
    "$$\\mathbf{r_{o}} = \\frac{1}{3}\\mathbf{R_{1}} + \\frac{1}{3}\\mathbf{R_{2}} + \\frac{1}{3}\\mathbf{R_{3}}$$\n",
    "\n",
    "where $\\mathbf{R_{i}}$ is the vector representing each vertex (same vectors used in the solid angle calculation. Similar to the solid angle calculation, these vectors are represented by the *ith* row of M (the output of the triangulation function). \n",
    "\n",
    "The centroid of the spherical triangle, $\\mathbf{r}$ is then obtained by projecting $\\mathbf{r_{o}}$ onto the sphere, which, in the case of the unit sphere, is done by normalising $\\mathbf{r_{o}}$:\n",
    "\n",
    "$$\\mathbf{r} = \\frac{\\mathbf{r_{o}}}{\\left \\| \\mathbf{r_{0}} \\right \\|}$$\n",
    "\n",
    "where $\\left \\| \\mathbf{r_{0}} \\right \\|$ is the Euclidean norm of $\\mathbf{r_{0}}$\n",
    "\n",
    "The function SphericalTriCentroid takes an input M (the triangles matrix) and outputs the xyz coordinates of the centroids, C, of the spherical triangles."
   ]
  },
  {
   "cell_type": "code",
   "execution_count": 7,
   "metadata": {},
   "outputs": [],
   "source": [
    "def SphericalTriCentroid(M):\n",
    "    #initialise the centroid 2d array\n",
    "    s = M.shape\n",
    "    C = np.zeros([3,s[2]])\n",
    "    for i in range(s[2]):\n",
    "        #getting the vertex vectors of the triangles\n",
    "        X = M[:,:,i]\n",
    "        R1 = X[:,0]\n",
    "        R2 = X[:,1]\n",
    "        R3 = X[:,2]\n",
    "        #calculating xyz position of centres and projecting onto the sphere\n",
    "        temp = (R1+R2+R3)/3\n",
    "        temp = temp/np.linalg.norm(temp)\n",
    "        #updating C with the xyz coordinates of the centroids\n",
    "        C[:,i] = temp\n",
    "    return C"
   ]
  },
  {
   "cell_type": "markdown",
   "metadata": {},
   "source": [
    "\n",
    "We can check our function by plotting the centroids of the spherical triangles for both the uniform grid triangulation and octahedron triangulation\n"
   ]
  },
  {
   "cell_type": "code",
   "execution_count": 8,
   "metadata": {},
   "outputs": [
    {
     "data": {
      "image/png": "[encoded data removed]",
      "text/plain": [
       "<Figure size 432x288 with 2 Axes>"
      ]
     },
     "metadata": {
      "needs_background": "light"
     },
     "output_type": "display_data"
    }
   ],
   "source": [
    "C1 = SphericalTriCentroid(M1)\n",
    "C2 = SphericalTriCentroid(M2)\n",
    "\n",
    "fig = plt.figure()\n",
    "ax1 = fig.add_subplot(121, projection='3d') \n",
    "ax1.plot(C1[0,:],C1[1,:],C1[2,:], 'b.', markersize=.5)\n",
    "plt.axis('off')\n",
    "ax1.set_zlim(-2,1)\n",
    "ax1.view_init(elev=25., azim=30)\n",
    "\n",
    "ax2 = fig.add_subplot(122, projection='3d') \n",
    "ax2.plot(C2[0,:],C2[1,:],C2[2,:], 'b.', markersize=.5)\n",
    "plt.axis('off')\n",
    "ax2.set_zlim(-2, 1)\n",
    "ax2.view_init(elev=25., azim=30)\n",
    "ax1.title.set_text('Uniform Grid Method')\n",
    "ax2.title.set_text('Octahedron Method')\n"
   ]
  }
 ],
 "metadata": {
  "celltoolbar": "Edit Metadata",
  "kernelspec": {
   "display_name": "Python 3",
   "language": "python",
   "name": "python3"
  },
  "language_info": {
   "codemirror_mode": {
    "name": "ipython",
    "version": 3
   },
   "file_extension": ".py",
   "mimetype": "text/x-python",
   "name": "python",
   "nbconvert_exporter": "python",
   "pygments_lexer": "ipython3",
   "version": "3.7.3"
  }
 },
 "nbformat": 4,
 "nbformat_minor": 2
}
